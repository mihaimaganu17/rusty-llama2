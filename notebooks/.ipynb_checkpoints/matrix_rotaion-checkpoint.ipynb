{
 "cells": [
  {
   "cell_type": "markdown",
   "id": "9fad7f97-c730-4fa1-af6f-4b5e6f7df577",
   "metadata": {},
   "source": [
    "# Rotation matrix\n",
    "A **rotation matrix** can be defined as a transformation matrix that operates on a vector and produces a rotated vector such that the coordinate axes always remain fixed. These matrices rotate a vector in the **counterclockwise** direction by an angle θ.\n",
    "A rotation matrix is always a square matrix with real entities. Moreover, rotation matrices are [orthogonal matrices](https://www.cuemath.com/algebra/orthogonal-matrix/) with a determinant equal to 1.\n",
    "[Source](https://www.cuemath.com/algebra/rotation-matrix/)\n",
    "Suppose we have a square matrix P. Then P will be a rotation matrix **if and only if**:"
   ]
  },
  {
   "cell_type": "code",
   "execution_count": 40,
   "id": "fd036ddb-0d3d-4065-87b7-582ea2b530d2",
   "metadata": {},
   "outputs": [
    {
     "data": {
      "text/latex": [
       "\\[P^T = P^{-1}\\] and \\[|P| = 1\\]\n"
      ],
      "text/plain": [
       "<IPython.core.display.Latex object>"
      ]
     },
     "metadata": {},
     "output_type": "display_data"
    }
   ],
   "source": [
    "%%latex\n",
    "\\[P^T = P^{-1}\\] and \\[|P| = 1\\]"
   ]
  },
  {
   "cell_type": "code",
   "execution_count": 41,
   "id": "eb2c1320-b6e1-4ab6-b3b6-a47bd3cd832b",
   "metadata": {},
   "outputs": [
    {
     "data": {
      "text/latex": [
       "The following matrix is a rotation matrix and satisfies the properties above:\n",
       "\\[P = \\begin{pmatrix}\n",
       "cosθ & -sinθ\\\\\n",
       "sinθ & cosθ\n",
       "\\end{pmatrix}\\]\n",
       "It's transpose is:\n",
       "\\[P^T = \\begin{pmatrix}\n",
       "cosθ & sinθ\\\\\n",
       "-sinθ & cosθ\n",
       "\\end{pmatrix}\\]\n",
       "and the inverse is\n",
       "\\[P^{-1} = \\begin{pmatrix}\n",
       "cosθ & sinθ\\\\\n",
       "-sinθ & cosθ\n",
       "\\end{pmatrix}\\]\n",
       "hence:\n",
       "\\[P^T = P^{-1}\\]\n",
       "and the determinant:\n",
       "\\[|P| = cos^2θ + sin^2θ = 1\\]\n"
      ],
      "text/plain": [
       "<IPython.core.display.Latex object>"
      ]
     },
     "metadata": {},
     "output_type": "display_data"
    }
   ],
   "source": [
    "%%latex\n",
    "The following matrix is a rotation matrix and satisfies the properties above:\n",
    "\\[P = \\begin{pmatrix}\n",
    "cosθ & -sinθ\\\\\n",
    "sinθ & cosθ\n",
    "\\end{pmatrix}\\]\n",
    "It's transpose is:\n",
    "\\[P^T = \\begin{pmatrix}\n",
    "cosθ & sinθ\\\\\n",
    "-sinθ & cosθ\n",
    "\\end{pmatrix}\\]\n",
    "and the inverse is\n",
    "\\[P^{-1} = \\begin{pmatrix}\n",
    "cosθ & sinθ\\\\\n",
    "-sinθ & cosθ\n",
    "\\end{pmatrix}\\]\n",
    "hence:\n",
    "\\[P^T = P^{-1}\\]\n",
    "and the determinant:\n",
    "\\[|P| = cos^2θ + sin^2θ = 1\\]"
   ]
  },
  {
   "cell_type": "code",
   "execution_count": 50,
   "id": "c3a2ecb6-912c-4a4d-a58d-2744617a6608",
   "metadata": {},
   "outputs": [
    {
     "data": {
      "text/latex": [
       "If we want to rotate a vector with the (x,y) coordinates then we use matrix multiplication to perform the rotation:\n",
       "\\[\\begin{pmatrix}\n",
       "x'\\\\\n",
       "y'\n",
       "\\end{pmatrix} = \\begin{pmatrix}\n",
       "cosθ & -sinθ\\\\\n",
       "sinθ & cosθ\n",
       "\\end{pmatrix} *\n",
       "\\begin{pmatrix}\n",
       "x\\\\\n",
       "y\n",
       "\\end{pmatrix}\\]\n",
       "Here, θ is the angle of rotation in the anti-clockwise direction in an 2D plane.\n",
       "Solving the equation we get:\n",
       "\\[x' = x * cosθ - y * sinθ\\]\n",
       "\\[y' = x * sinθ + y * cosθ\\]\n"
      ],
      "text/plain": [
       "<IPython.core.display.Latex object>"
      ]
     },
     "metadata": {},
     "output_type": "display_data"
    }
   ],
   "source": [
    "%%latex\n",
    "If we want to rotate a vector with the (x,y) coordinates then we use matrix multiplication to perform the rotation:\n",
    "\\[\\begin{pmatrix}\n",
    "x'\\\\\n",
    "y'\n",
    "\\end{pmatrix} = \\begin{pmatrix}\n",
    "cosθ & -sinθ\\\\\n",
    "sinθ & cosθ\n",
    "\\end{pmatrix} *\n",
    "\\begin{pmatrix}\n",
    "x\\\\\n",
    "y\n",
    "\\end{pmatrix}\\]\n",
    "Here, θ is the angle of rotation in the anti-clockwise direction in an 2D plane.\n",
    "Solving the equation we get:\n",
    "\\[x' = x * cosθ - y * sinθ\\]\n",
    "\\[y' = x * sinθ + y * cosθ\\]"
   ]
  },
  {
   "cell_type": "code",
   "execution_count": null,
   "id": "6f763da6-b83b-493c-9643-a3ee0498f142",
   "metadata": {},
   "outputs": [],
   "source": []
  }
 ],
 "metadata": {
  "kernelspec": {
   "display_name": "Python 3 (ipykernel)",
   "language": "python",
   "name": "python3"
  },
  "language_info": {
   "codemirror_mode": {
    "name": "ipython",
    "version": 3
   },
   "file_extension": ".py",
   "mimetype": "text/x-python",
   "name": "python",
   "nbconvert_exporter": "python",
   "pygments_lexer": "ipython3",
   "version": "3.13.2"
  }
 },
 "nbformat": 4,
 "nbformat_minor": 5
}
